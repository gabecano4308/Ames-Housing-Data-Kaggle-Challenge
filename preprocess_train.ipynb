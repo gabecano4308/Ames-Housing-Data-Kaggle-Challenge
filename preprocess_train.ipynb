{
 "cells": [
  {
   "cell_type": "markdown",
   "metadata": {},
   "source": [
    "# Ames Training Dataset EDA and Cleaning"
   ]
  },
  {
   "cell_type": "code",
   "execution_count": 4159,
   "metadata": {},
   "outputs": [],
   "source": [
    "import numpy as np\n",
    "import pandas as pd\n",
    "import matplotlib.pyplot as plt\n",
    "import seaborn as sns"
   ]
  },
  {
   "cell_type": "code",
   "execution_count": 4160,
   "metadata": {},
   "outputs": [],
   "source": [
    "# Read in train dataset\n",
    "ames_train = pd.read_csv('./datasets/train.csv')"
   ]
  },
  {
   "cell_type": "code",
   "execution_count": 4161,
   "metadata": {},
   "outputs": [
    {
     "data": {
      "text/html": [
       "<div>\n",
       "<style scoped>\n",
       "    .dataframe tbody tr th:only-of-type {\n",
       "        vertical-align: middle;\n",
       "    }\n",
       "\n",
       "    .dataframe tbody tr th {\n",
       "        vertical-align: top;\n",
       "    }\n",
       "\n",
       "    .dataframe thead th {\n",
       "        text-align: right;\n",
       "    }\n",
       "</style>\n",
       "<table border=\"1\" class=\"dataframe\">\n",
       "  <thead>\n",
       "    <tr style=\"text-align: right;\">\n",
       "      <th></th>\n",
       "      <th>Id</th>\n",
       "      <th>PID</th>\n",
       "      <th>MS SubClass</th>\n",
       "      <th>MS Zoning</th>\n",
       "      <th>Lot Frontage</th>\n",
       "      <th>Lot Area</th>\n",
       "      <th>Street</th>\n",
       "      <th>Alley</th>\n",
       "      <th>Lot Shape</th>\n",
       "      <th>Land Contour</th>\n",
       "      <th>...</th>\n",
       "      <th>Screen Porch</th>\n",
       "      <th>Pool Area</th>\n",
       "      <th>Pool QC</th>\n",
       "      <th>Fence</th>\n",
       "      <th>Misc Feature</th>\n",
       "      <th>Misc Val</th>\n",
       "      <th>Mo Sold</th>\n",
       "      <th>Yr Sold</th>\n",
       "      <th>Sale Type</th>\n",
       "      <th>SalePrice</th>\n",
       "    </tr>\n",
       "  </thead>\n",
       "  <tbody>\n",
       "    <tr>\n",
       "      <th>0</th>\n",
       "      <td>109</td>\n",
       "      <td>533352170</td>\n",
       "      <td>60</td>\n",
       "      <td>RL</td>\n",
       "      <td>NaN</td>\n",
       "      <td>13517</td>\n",
       "      <td>Pave</td>\n",
       "      <td>NaN</td>\n",
       "      <td>IR1</td>\n",
       "      <td>Lvl</td>\n",
       "      <td>...</td>\n",
       "      <td>0</td>\n",
       "      <td>0</td>\n",
       "      <td>NaN</td>\n",
       "      <td>NaN</td>\n",
       "      <td>NaN</td>\n",
       "      <td>0</td>\n",
       "      <td>3</td>\n",
       "      <td>2010</td>\n",
       "      <td>WD</td>\n",
       "      <td>130500</td>\n",
       "    </tr>\n",
       "    <tr>\n",
       "      <th>1</th>\n",
       "      <td>544</td>\n",
       "      <td>531379050</td>\n",
       "      <td>60</td>\n",
       "      <td>RL</td>\n",
       "      <td>43.0</td>\n",
       "      <td>11492</td>\n",
       "      <td>Pave</td>\n",
       "      <td>NaN</td>\n",
       "      <td>IR1</td>\n",
       "      <td>Lvl</td>\n",
       "      <td>...</td>\n",
       "      <td>0</td>\n",
       "      <td>0</td>\n",
       "      <td>NaN</td>\n",
       "      <td>NaN</td>\n",
       "      <td>NaN</td>\n",
       "      <td>0</td>\n",
       "      <td>4</td>\n",
       "      <td>2009</td>\n",
       "      <td>WD</td>\n",
       "      <td>220000</td>\n",
       "    </tr>\n",
       "    <tr>\n",
       "      <th>2</th>\n",
       "      <td>153</td>\n",
       "      <td>535304180</td>\n",
       "      <td>20</td>\n",
       "      <td>RL</td>\n",
       "      <td>68.0</td>\n",
       "      <td>7922</td>\n",
       "      <td>Pave</td>\n",
       "      <td>NaN</td>\n",
       "      <td>Reg</td>\n",
       "      <td>Lvl</td>\n",
       "      <td>...</td>\n",
       "      <td>0</td>\n",
       "      <td>0</td>\n",
       "      <td>NaN</td>\n",
       "      <td>NaN</td>\n",
       "      <td>NaN</td>\n",
       "      <td>0</td>\n",
       "      <td>1</td>\n",
       "      <td>2010</td>\n",
       "      <td>WD</td>\n",
       "      <td>109000</td>\n",
       "    </tr>\n",
       "    <tr>\n",
       "      <th>3</th>\n",
       "      <td>318</td>\n",
       "      <td>916386060</td>\n",
       "      <td>60</td>\n",
       "      <td>RL</td>\n",
       "      <td>73.0</td>\n",
       "      <td>9802</td>\n",
       "      <td>Pave</td>\n",
       "      <td>NaN</td>\n",
       "      <td>Reg</td>\n",
       "      <td>Lvl</td>\n",
       "      <td>...</td>\n",
       "      <td>0</td>\n",
       "      <td>0</td>\n",
       "      <td>NaN</td>\n",
       "      <td>NaN</td>\n",
       "      <td>NaN</td>\n",
       "      <td>0</td>\n",
       "      <td>4</td>\n",
       "      <td>2010</td>\n",
       "      <td>WD</td>\n",
       "      <td>174000</td>\n",
       "    </tr>\n",
       "    <tr>\n",
       "      <th>4</th>\n",
       "      <td>255</td>\n",
       "      <td>906425045</td>\n",
       "      <td>50</td>\n",
       "      <td>RL</td>\n",
       "      <td>82.0</td>\n",
       "      <td>14235</td>\n",
       "      <td>Pave</td>\n",
       "      <td>NaN</td>\n",
       "      <td>IR1</td>\n",
       "      <td>Lvl</td>\n",
       "      <td>...</td>\n",
       "      <td>0</td>\n",
       "      <td>0</td>\n",
       "      <td>NaN</td>\n",
       "      <td>NaN</td>\n",
       "      <td>NaN</td>\n",
       "      <td>0</td>\n",
       "      <td>3</td>\n",
       "      <td>2010</td>\n",
       "      <td>WD</td>\n",
       "      <td>138500</td>\n",
       "    </tr>\n",
       "  </tbody>\n",
       "</table>\n",
       "<p>5 rows × 81 columns</p>\n",
       "</div>"
      ],
      "text/plain": [
       "    Id        PID  MS SubClass MS Zoning  Lot Frontage  Lot Area Street Alley  \\\n",
       "0  109  533352170           60        RL           NaN     13517   Pave   NaN   \n",
       "1  544  531379050           60        RL          43.0     11492   Pave   NaN   \n",
       "2  153  535304180           20        RL          68.0      7922   Pave   NaN   \n",
       "3  318  916386060           60        RL          73.0      9802   Pave   NaN   \n",
       "4  255  906425045           50        RL          82.0     14235   Pave   NaN   \n",
       "\n",
       "  Lot Shape Land Contour  ... Screen Porch Pool Area Pool QC Fence  \\\n",
       "0       IR1          Lvl  ...            0         0     NaN   NaN   \n",
       "1       IR1          Lvl  ...            0         0     NaN   NaN   \n",
       "2       Reg          Lvl  ...            0         0     NaN   NaN   \n",
       "3       Reg          Lvl  ...            0         0     NaN   NaN   \n",
       "4       IR1          Lvl  ...            0         0     NaN   NaN   \n",
       "\n",
       "  Misc Feature Misc Val Mo Sold Yr Sold  Sale Type  SalePrice  \n",
       "0          NaN        0       3    2010        WD      130500  \n",
       "1          NaN        0       4    2009        WD      220000  \n",
       "2          NaN        0       1    2010        WD      109000  \n",
       "3          NaN        0       4    2010        WD      174000  \n",
       "4          NaN        0       3    2010        WD      138500  \n",
       "\n",
       "[5 rows x 81 columns]"
      ]
     },
     "execution_count": 4161,
     "metadata": {},
     "output_type": "execute_result"
    }
   ],
   "source": [
    "ames_train.head()"
   ]
  },
  {
   "cell_type": "code",
   "execution_count": 4162,
   "metadata": {},
   "outputs": [
    {
     "data": {
      "text/plain": [
       "(2051, 81)"
      ]
     },
     "execution_count": 4162,
     "metadata": {},
     "output_type": "execute_result"
    }
   ],
   "source": [
    "ames_train.shape"
   ]
  },
  {
   "cell_type": "code",
   "execution_count": 4163,
   "metadata": {},
   "outputs": [
    {
     "data": {
      "text/plain": [
       "Index(['Id', 'PID', 'MS SubClass', 'MS Zoning', 'Lot Frontage', 'Lot Area',\n",
       "       'Street', 'Alley', 'Lot Shape', 'Land Contour', 'Utilities',\n",
       "       'Lot Config', 'Land Slope', 'Neighborhood', 'Condition 1',\n",
       "       'Condition 2', 'Bldg Type', 'House Style', 'Overall Qual',\n",
       "       'Overall Cond', 'Year Built', 'Year Remod/Add', 'Roof Style',\n",
       "       'Roof Matl', 'Exterior 1st', 'Exterior 2nd', 'Mas Vnr Type',\n",
       "       'Mas Vnr Area', 'Exter Qual', 'Exter Cond', 'Foundation', 'Bsmt Qual',\n",
       "       'Bsmt Cond', 'Bsmt Exposure', 'BsmtFin Type 1', 'BsmtFin SF 1',\n",
       "       'BsmtFin Type 2', 'BsmtFin SF 2', 'Bsmt Unf SF', 'Total Bsmt SF',\n",
       "       'Heating', 'Heating QC', 'Central Air', 'Electrical', '1st Flr SF',\n",
       "       '2nd Flr SF', 'Low Qual Fin SF', 'Gr Liv Area', 'Bsmt Full Bath',\n",
       "       'Bsmt Half Bath', 'Full Bath', 'Half Bath', 'Bedroom AbvGr',\n",
       "       'Kitchen AbvGr', 'Kitchen Qual', 'TotRms AbvGrd', 'Functional',\n",
       "       'Fireplaces', 'Fireplace Qu', 'Garage Type', 'Garage Yr Blt',\n",
       "       'Garage Finish', 'Garage Cars', 'Garage Area', 'Garage Qual',\n",
       "       'Garage Cond', 'Paved Drive', 'Wood Deck SF', 'Open Porch SF',\n",
       "       'Enclosed Porch', '3Ssn Porch', 'Screen Porch', 'Pool Area', 'Pool QC',\n",
       "       'Fence', 'Misc Feature', 'Misc Val', 'Mo Sold', 'Yr Sold', 'Sale Type',\n",
       "       'SalePrice'],\n",
       "      dtype='object')"
      ]
     },
     "execution_count": 4163,
     "metadata": {},
     "output_type": "execute_result"
    }
   ],
   "source": [
    "ames_train.columns"
   ]
  },
  {
   "cell_type": "code",
   "execution_count": 4164,
   "metadata": {},
   "outputs": [],
   "source": [
    "# Dropping the following columns for the ames dataframe due to their perceived lack of weight/significance\n",
    "# or having too many null values\n",
    "\n",
    "drop_features = ['Id', 'PID', 'Lot Frontage', 'Street', 'Alley', 'Lot Shape', 'House Style', 'Year Built', 'Roof Style', \n",
    "                 'Roof Matl', 'Exterior 1st', 'Exterior 2nd', 'Mas Vnr Type', 'Mas Vnr Area', 'Bsmt Exposure', \n",
    "                 'BsmtFin Type 2', 'Bsmt Unf SF', 'BsmtFin SF 1', 'BsmtFin SF 2', 'Heating', 'Electrical', 'Low Qual Fin SF', \n",
    "                 'Functional', 'Garage Type', 'Garage Yr Blt', 'Garage Finish', 'Garage Cars',\n",
    "                 'Fence', 'Misc Feature', 'Misc Val', 'Mo Sold', '1st Flr SF', '2nd Flr SF', 'Condition 2', \n",
    "                 'Kitchen AbvGr', 'Foundation', 'Yr Sold', '3Ssn Porch', 'Screen Porch', 'Enclosed Porch', 'Wood Deck SF',\n",
    "                  'Lot Area', 'Year Remod/Add', 'Garage Qual', 'Garage Cond', 'Bsmt Cond', 'Exter Cond',\n",
    "                 'Fireplace Qu', 'Central Air', 'Open Porch SF', 'Fireplaces', 'Pool QC', 'Pool Area']\n",
    "           \n",
    "ames_train = ames_train.drop(columns= drop_features)"
   ]
  },
  {
   "cell_type": "code",
   "execution_count": 4165,
   "metadata": {},
   "outputs": [
    {
     "data": {
      "text/plain": [
       "(2051, 28)"
      ]
     },
     "execution_count": 4165,
     "metadata": {},
     "output_type": "execute_result"
    }
   ],
   "source": [
    "ames_train.shape"
   ]
  },
  {
   "cell_type": "code",
   "execution_count": 4166,
   "metadata": {},
   "outputs": [
    {
     "data": {
      "text/plain": [
       "MS SubClass        0\n",
       "MS Zoning          0\n",
       "Land Contour       0\n",
       "Utilities          0\n",
       "Lot Config         0\n",
       "Land Slope         0\n",
       "Neighborhood       0\n",
       "Condition 1        0\n",
       "Bldg Type          0\n",
       "Overall Qual       0\n",
       "Overall Cond       0\n",
       "Exter Qual         0\n",
       "Bsmt Qual         55\n",
       "BsmtFin Type 1    55\n",
       "Total Bsmt SF      1\n",
       "Heating QC         0\n",
       "Gr Liv Area        0\n",
       "Bsmt Full Bath     2\n",
       "Bsmt Half Bath     2\n",
       "Full Bath          0\n",
       "Half Bath          0\n",
       "Bedroom AbvGr      0\n",
       "Kitchen Qual       0\n",
       "TotRms AbvGrd      0\n",
       "Garage Area        1\n",
       "Paved Drive        0\n",
       "Sale Type          0\n",
       "SalePrice          0\n",
       "dtype: int64"
      ]
     },
     "execution_count": 4166,
     "metadata": {},
     "output_type": "execute_result"
    }
   ],
   "source": [
    "# Checking for null values\n",
    "ames_train.isnull().sum()"
   ]
  },
  {
   "cell_type": "code",
   "execution_count": 4167,
   "metadata": {},
   "outputs": [
    {
     "data": {
      "text/html": [
       "<div>\n",
       "<style scoped>\n",
       "    .dataframe tbody tr th:only-of-type {\n",
       "        vertical-align: middle;\n",
       "    }\n",
       "\n",
       "    .dataframe tbody tr th {\n",
       "        vertical-align: top;\n",
       "    }\n",
       "\n",
       "    .dataframe thead th {\n",
       "        text-align: right;\n",
       "    }\n",
       "</style>\n",
       "<table border=\"1\" class=\"dataframe\">\n",
       "  <thead>\n",
       "    <tr style=\"text-align: right;\">\n",
       "      <th></th>\n",
       "      <th>Total Bsmt SF</th>\n",
       "      <th>BsmtFin Type 1</th>\n",
       "      <th>Bsmt Qual</th>\n",
       "      <th>Bsmt Full Bath</th>\n",
       "      <th>Bsmt Half Bath</th>\n",
       "    </tr>\n",
       "  </thead>\n",
       "  <tbody>\n",
       "    <tr>\n",
       "      <th>12</th>\n",
       "      <td>0.0</td>\n",
       "      <td>NaN</td>\n",
       "      <td>NaN</td>\n",
       "      <td>0.0</td>\n",
       "      <td>0.0</td>\n",
       "    </tr>\n",
       "    <tr>\n",
       "      <th>93</th>\n",
       "      <td>0.0</td>\n",
       "      <td>NaN</td>\n",
       "      <td>NaN</td>\n",
       "      <td>0.0</td>\n",
       "      <td>0.0</td>\n",
       "    </tr>\n",
       "    <tr>\n",
       "      <th>114</th>\n",
       "      <td>0.0</td>\n",
       "      <td>NaN</td>\n",
       "      <td>NaN</td>\n",
       "      <td>0.0</td>\n",
       "      <td>0.0</td>\n",
       "    </tr>\n",
       "    <tr>\n",
       "      <th>146</th>\n",
       "      <td>0.0</td>\n",
       "      <td>NaN</td>\n",
       "      <td>NaN</td>\n",
       "      <td>0.0</td>\n",
       "      <td>0.0</td>\n",
       "    </tr>\n",
       "    <tr>\n",
       "      <th>183</th>\n",
       "      <td>0.0</td>\n",
       "      <td>NaN</td>\n",
       "      <td>NaN</td>\n",
       "      <td>0.0</td>\n",
       "      <td>0.0</td>\n",
       "    </tr>\n",
       "  </tbody>\n",
       "</table>\n",
       "</div>"
      ],
      "text/plain": [
       "     Total Bsmt SF BsmtFin Type 1 Bsmt Qual  Bsmt Full Bath  Bsmt Half Bath\n",
       "12             0.0            NaN       NaN             0.0             0.0\n",
       "93             0.0            NaN       NaN             0.0             0.0\n",
       "114            0.0            NaN       NaN             0.0             0.0\n",
       "146            0.0            NaN       NaN             0.0             0.0\n",
       "183            0.0            NaN       NaN             0.0             0.0"
      ]
     },
     "execution_count": 4167,
     "metadata": {},
     "output_type": "execute_result"
    }
   ],
   "source": [
    "# It appears np.nan values are appearing for rows with 0 basements\n",
    "ames_train.loc[ames_train['Bsmt Qual'].isna() == True, ['Total Bsmt SF', 'BsmtFin Type 1', 'Bsmt Qual', 'Bsmt Full Bath', 'Bsmt Half Bath']].head()"
   ]
  },
  {
   "cell_type": "code",
   "execution_count": 4168,
   "metadata": {},
   "outputs": [
    {
     "data": {
      "text/html": [
       "<div>\n",
       "<style scoped>\n",
       "    .dataframe tbody tr th:only-of-type {\n",
       "        vertical-align: middle;\n",
       "    }\n",
       "\n",
       "    .dataframe tbody tr th {\n",
       "        vertical-align: top;\n",
       "    }\n",
       "\n",
       "    .dataframe thead th {\n",
       "        text-align: right;\n",
       "    }\n",
       "</style>\n",
       "<table border=\"1\" class=\"dataframe\">\n",
       "  <thead>\n",
       "    <tr style=\"text-align: right;\">\n",
       "      <th></th>\n",
       "      <th>Garage Area</th>\n",
       "    </tr>\n",
       "  </thead>\n",
       "  <tbody>\n",
       "    <tr>\n",
       "      <th>1712</th>\n",
       "      <td>NaN</td>\n",
       "    </tr>\n",
       "  </tbody>\n",
       "</table>\n",
       "</div>"
      ],
      "text/plain": [
       "      Garage Area\n",
       "1712          NaN"
      ]
     },
     "execution_count": 4168,
     "metadata": {},
     "output_type": "execute_result"
    }
   ],
   "source": [
    "# I'm assuming np.nan values are appearing for the row if garage area is 0\n",
    "ames_train.loc[ames_train['Garage Area'].isna() == True, ['Garage Area']].head()"
   ]
  },
  {
   "cell_type": "code",
   "execution_count": 4169,
   "metadata": {},
   "outputs": [],
   "source": [
    "# Replacing NaaN values in BsmtFin Type 1 and Bsmt Qual with the 'Na' \n",
    "# characters, then Total BsmtFin SF + full/half bath, and Garage Area with 0.0. \n",
    "ames_train['BsmtFin Type 1'] = ames_train['BsmtFin Type 1'].replace(np.nan, 'Na')\n",
    "ames_train['Bsmt Qual'] = ames_train['Bsmt Qual'].replace(np.nan, 'Na')\n",
    "ames_train['Total Bsmt SF'] = ames_train['Total Bsmt SF'].replace(np.nan, 0.0)\n",
    "ames_train['Bsmt Full Bath'] = ames_train['Bsmt Full Bath'].replace(np.nan, 0.0)\n",
    "ames_train['Bsmt Half Bath'] = ames_train['Bsmt Half Bath'].replace(np.nan, 0.0)\n",
    "ames_train['Garage Area'] = ames_train['Garage Area'].replace(np.nan, 0.0)"
   ]
  },
  {
   "cell_type": "code",
   "execution_count": 4170,
   "metadata": {},
   "outputs": [
    {
     "data": {
      "text/plain": [
       "MS SubClass       0\n",
       "MS Zoning         0\n",
       "Land Contour      0\n",
       "Utilities         0\n",
       "Lot Config        0\n",
       "Land Slope        0\n",
       "Neighborhood      0\n",
       "Condition 1       0\n",
       "Bldg Type         0\n",
       "Overall Qual      0\n",
       "Overall Cond      0\n",
       "Exter Qual        0\n",
       "Bsmt Qual         0\n",
       "BsmtFin Type 1    0\n",
       "Total Bsmt SF     0\n",
       "Heating QC        0\n",
       "Gr Liv Area       0\n",
       "Bsmt Full Bath    0\n",
       "Bsmt Half Bath    0\n",
       "Full Bath         0\n",
       "Half Bath         0\n",
       "Bedroom AbvGr     0\n",
       "Kitchen Qual      0\n",
       "TotRms AbvGrd     0\n",
       "Garage Area       0\n",
       "Paved Drive       0\n",
       "Sale Type         0\n",
       "SalePrice         0\n",
       "dtype: int64"
      ]
     },
     "execution_count": 4170,
     "metadata": {},
     "output_type": "execute_result"
    }
   ],
   "source": [
    "# No more null values\n",
    "ames_train.isnull().sum()"
   ]
  },
  {
   "cell_type": "code",
   "execution_count": 4171,
   "metadata": {},
   "outputs": [
    {
     "name": "stdout",
     "output_type": "stream",
     "text": [
      "<class 'pandas.core.frame.DataFrame'>\n",
      "RangeIndex: 2051 entries, 0 to 2050\n",
      "Data columns (total 28 columns):\n",
      " #   Column          Non-Null Count  Dtype  \n",
      "---  ------          --------------  -----  \n",
      " 0   MS SubClass     2051 non-null   int64  \n",
      " 1   MS Zoning       2051 non-null   object \n",
      " 2   Land Contour    2051 non-null   object \n",
      " 3   Utilities       2051 non-null   object \n",
      " 4   Lot Config      2051 non-null   object \n",
      " 5   Land Slope      2051 non-null   object \n",
      " 6   Neighborhood    2051 non-null   object \n",
      " 7   Condition 1     2051 non-null   object \n",
      " 8   Bldg Type       2051 non-null   object \n",
      " 9   Overall Qual    2051 non-null   int64  \n",
      " 10  Overall Cond    2051 non-null   int64  \n",
      " 11  Exter Qual      2051 non-null   object \n",
      " 12  Bsmt Qual       2051 non-null   object \n",
      " 13  BsmtFin Type 1  2051 non-null   object \n",
      " 14  Total Bsmt SF   2051 non-null   float64\n",
      " 15  Heating QC      2051 non-null   object \n",
      " 16  Gr Liv Area     2051 non-null   int64  \n",
      " 17  Bsmt Full Bath  2051 non-null   float64\n",
      " 18  Bsmt Half Bath  2051 non-null   float64\n",
      " 19  Full Bath       2051 non-null   int64  \n",
      " 20  Half Bath       2051 non-null   int64  \n",
      " 21  Bedroom AbvGr   2051 non-null   int64  \n",
      " 22  Kitchen Qual    2051 non-null   object \n",
      " 23  TotRms AbvGrd   2051 non-null   int64  \n",
      " 24  Garage Area     2051 non-null   float64\n",
      " 25  Paved Drive     2051 non-null   object \n",
      " 26  Sale Type       2051 non-null   object \n",
      " 27  SalePrice       2051 non-null   int64  \n",
      "dtypes: float64(4), int64(9), object(15)\n",
      "memory usage: 448.8+ KB\n"
     ]
    }
   ],
   "source": [
    "# MS SubClass should be categorical even though it contains numerical values. \n",
    "ames_train.info()"
   ]
  },
  {
   "cell_type": "code",
   "execution_count": 4172,
   "metadata": {},
   "outputs": [
    {
     "name": "stdout",
     "output_type": "stream",
     "text": [
      "count    2051.000000\n",
      "mean        1.577279\n",
      "std         0.549279\n",
      "min         0.000000\n",
      "25%         1.000000\n",
      "50%         2.000000\n",
      "75%         2.000000\n",
      "max         4.000000\n",
      "Name: Full Bath, dtype: float64\n",
      "\n",
      "count    2051.000000\n",
      "mean        0.371039\n",
      "std         0.501043\n",
      "min         0.000000\n",
      "25%         0.000000\n",
      "50%         0.000000\n",
      "75%         1.000000\n",
      "max         2.000000\n",
      "Name: Half Bath, dtype: float64\n"
     ]
    }
   ],
   "source": [
    "print(ames_train['Full Bath'].describe())\n",
    "print()\n",
    "print(ames_train['Half Bath'].describe())"
   ]
  },
  {
   "cell_type": "code",
   "execution_count": 4173,
   "metadata": {},
   "outputs": [],
   "source": [
    "# Creating new columns that sum the total for bathrooms, beds/baths, and living area\n",
    "ames_train['tot_baths'] = ames_train['Full Bath'] + (ames_train['Half Bath']*0.5)\n",
    "ames_train.drop(columns=['Full Bath', 'Half Bath'], inplace=True)\n",
    "\n",
    "ames_train['tot_bed_bath'] = ames_train['tot_baths'] + ames_train['Bedroom AbvGr']\n",
    "ames_train['tot_liv_area'] = ames_train['Total Bsmt SF'] + ames_train['Gr Liv Area']"
   ]
  },
  {
   "cell_type": "code",
   "execution_count": 4174,
   "metadata": {},
   "outputs": [],
   "source": [
    "# Converting 'quality' category columns into ordinal number values \n",
    "# Kovacs shared some of this code with me\n",
    "\n",
    "qual_map = {\"Ex\":5, \"Gd\":4, \"TA\":3, \"Fa\":2, \"Po\":1, \"NA\":0}\n",
    "qual_cols = [\"Exter Qual\", \"Exter Cond\", \"Bsmt Qual\", \"Bsmt Cond\", \"Kitchen Qual\", \n",
    "             \"Fireplace Qu\", \"Garage Qual\", \"Garage Cond\", \"Pool QC\"]\n",
    "\n",
    "for i in ames_train.columns:\n",
    "    if i in qual_cols:\n",
    "        ames_train[i] = ames_train[i].map(qual_map)\n",
    "        pd.to_numeric(arg=ames_train[i], errors=\"coerce\")\n",
    "    ames_train[i] = ames_train[i].replace(np.nan, 0.0)"
   ]
  },
  {
   "cell_type": "code",
   "execution_count": 4175,
   "metadata": {},
   "outputs": [
    {
     "data": {
      "image/png": "[encoded data removed]",
      "text/plain": [
       "<Figure size 792x792 with 20 Axes>"
      ]
     },
     "metadata": {
      "needs_background": "light"
     },
     "output_type": "display_data"
    }
   ],
   "source": [
    "# Producing histograms for all numerical values\n",
    "ames_train[ames_train.dtypes[(ames_train.dtypes==\"float64\")|(ames_train.dtypes==\"int64\")].index.values].hist(figsize=[11,11]);"
   ]
  },
  {
   "cell_type": "markdown",
   "metadata": {},
   "source": [
    "I had run the histogram code above with more dataset columns before and found heavily skewed distributions for the following: porch-related columns, lot area, year remod/added, pool-related columns, garage quality/condition, basement condition, exterior condition, and fireplace-related columns. I went back to the top of the notebook afterwards to drop these columns, which is why they don't appear now. "
   ]
  },
  {
   "cell_type": "code",
   "execution_count": 4176,
   "metadata": {},
   "outputs": [
    {
     "data": {
      "image/png": "[encoded data removed]",
      "text/plain": [
       "<Figure size 432x288 with 1 Axes>"
      ]
     },
     "metadata": {
      "needs_background": "light"
     },
     "output_type": "display_data"
    }
   ],
   "source": [
    "# Total baths is slightly correlative with sale price.\n",
    "sns.barplot(x = ames_train['tot_baths'], y=ames_train['SalePrice'])\n",
    "plt.title('Home Sale Price by Total Amount of Bathrooms')\n",
    "plt.xlabel('Total Bathrooms in Home')\n",
    "plt.ylabel('Sale Price');"
   ]
  },
  {
   "cell_type": "code",
   "execution_count": 4177,
   "metadata": {},
   "outputs": [
    {
     "data": {
      "image/png": "[encoded data removed]",
      "text/plain": [
       "<Figure size 432x288 with 1 Axes>"
      ]
     },
     "metadata": {
      "needs_background": "light"
     },
     "output_type": "display_data"
    }
   ],
   "source": [
    "# Overall Quality is highly correlative with sale price\n",
    "sns.barplot(x = ames_train['Overall Qual'], y=ames_train['SalePrice'])\n",
    "plt.title('Home Sale Price by Overall Home Quality')\n",
    "plt.xlabel('Overall Home Quality')\n",
    "plt.ylabel('Sale Price');"
   ]
  },
  {
   "cell_type": "code",
   "execution_count": 4178,
   "metadata": {},
   "outputs": [
    {
     "data": {
      "text/plain": [
       "Norm      1767\n",
       "Feedr      109\n",
       "Artery      70\n",
       "RRAn        36\n",
       "PosN        27\n",
       "RRAe        21\n",
       "PosA        12\n",
       "RRNn         6\n",
       "RRNe         3\n",
       "Name: Condition 1, dtype: int64"
      ]
     },
     "execution_count": 4178,
     "metadata": {},
     "output_type": "execute_result"
    }
   ],
   "source": [
    "ames_train['Condition 1'].value_counts()"
   ]
  },
  {
   "cell_type": "code",
   "execution_count": 4179,
   "metadata": {},
   "outputs": [],
   "source": [
    "# Condition 2 was dropped, so renaming Condition 1 to Condition\n",
    "ames_train.rename(columns={'Condition 1': 'Condition'}, inplace=True)"
   ]
  },
  {
   "cell_type": "code",
   "execution_count": 4181,
   "metadata": {},
   "outputs": [],
   "source": [
    "# Grouping condition values related to railroads and positives \n",
    "for i in range(len(ames_train['Condition'])):\n",
    "    if ames_train['Condition'][i] == 'RRNn' or ames_train['Condition'][i] == 'RRNe':\n",
    "        ames_train['Condition'][i] = 'RRN' \n",
    "    elif ames_train['Condition'][i] == 'RRAn' or ames_train['Condition'][i] == 'RRAe':\n",
    "        ames_train['Condition'][i] = 'RRA'\n",
    "    elif ames_train['Condition'][i] == 'Artery' or ames_train['Condition'][i] == 'Feedr':\n",
    "        ames_train['Condition'][i] = 'Street'\n",
    "    elif ames_train['Condition'][i] == 'PosN' or ames_train['Condition'][i] == 'PosA':\n",
    "        ames_train['Condition'][i] = 'Pos'"
   ]
  },
  {
   "cell_type": "markdown",
   "metadata": {},
   "source": [
    "### Removing Outlier Values"
   ]
  },
  {
   "cell_type": "code",
   "execution_count": 4182,
   "metadata": {},
   "outputs": [
    {
     "data": {
      "text/plain": [
       "3205.7000000000016"
      ]
     },
     "execution_count": 4182,
     "metadata": {},
     "output_type": "execute_result"
    }
   ],
   "source": [
    "bsmt_area_high = ames_train['Total Bsmt SF'].quantile(.999)\n",
    "bsmt_area_high"
   ]
  },
  {
   "cell_type": "code",
   "execution_count": 4183,
   "metadata": {},
   "outputs": [
    {
     "data": {
      "image/png": "[encoded data removed]",
      "text/plain": [
       "<Figure size 432x288 with 1 Axes>"
      ]
     },
     "metadata": {
      "needs_background": "light"
     },
     "output_type": "display_data"
    }
   ],
   "source": [
    "sns.boxplot(data=ames_train['Total Bsmt SF']);"
   ]
  },
  {
   "cell_type": "code",
   "execution_count": 4184,
   "metadata": {},
   "outputs": [
    {
     "data": {
      "text/plain": [
       "3812.6000000000404"
      ]
     },
     "execution_count": 4184,
     "metadata": {},
     "output_type": "execute_result"
    }
   ],
   "source": [
    "gr_liv_area_high = ames_train['Gr Liv Area'].quantile(.999)\n",
    "gr_liv_area_high"
   ]
  },
  {
   "cell_type": "code",
   "execution_count": 4185,
   "metadata": {},
   "outputs": [
    {
     "data": {
      "image/png": "[encoded data removed]",
      "text/plain": [
       "<Figure size 432x288 with 1 Axes>"
      ]
     },
     "metadata": {
      "needs_background": "light"
     },
     "output_type": "display_data"
    }
   ],
   "source": [
    "sns.boxplot(data=ames_train['Gr Liv Area']);"
   ]
  },
  {
   "cell_type": "code",
   "execution_count": 4186,
   "metadata": {},
   "outputs": [
    {
     "data": {
      "text/plain": [
       "1346.3000000000093"
      ]
     },
     "execution_count": 4186,
     "metadata": {},
     "output_type": "execute_result"
    }
   ],
   "source": [
    "garage_area_high = ames_train['Garage Area'].quantile(.999)\n",
    "garage_area_high"
   ]
  },
  {
   "cell_type": "code",
   "execution_count": 4187,
   "metadata": {},
   "outputs": [
    {
     "data": {
      "image/png": "[encoded data removed]",
      "text/plain": [
       "<Figure size 432x288 with 1 Axes>"
      ]
     },
     "metadata": {
      "needs_background": "light"
     },
     "output_type": "display_data"
    }
   ],
   "source": [
    "sns.boxplot(data=ames_train['Garage Area']);"
   ]
  },
  {
   "cell_type": "code",
   "execution_count": 4188,
   "metadata": {},
   "outputs": [
    {
     "data": {
      "text/plain": [
       "6383.700000000242"
      ]
     },
     "execution_count": 4188,
     "metadata": {},
     "output_type": "execute_result"
    }
   ],
   "source": [
    "tot_liv_area = ames_train['tot_liv_area'].quantile(.999)\n",
    "tot_liv_area"
   ]
  },
  {
   "cell_type": "code",
   "execution_count": 4189,
   "metadata": {},
   "outputs": [
    {
     "data": {
      "image/png": "[encoded data removed]",
      "text/plain": [
       "<Figure size 432x288 with 1 Axes>"
      ]
     },
     "metadata": {
      "needs_background": "light"
     },
     "output_type": "display_data"
    }
   ],
   "source": [
    "sns.boxplot(data=ames_train['tot_liv_area']);"
   ]
  },
  {
   "cell_type": "code",
   "execution_count": 4190,
   "metadata": {},
   "outputs": [],
   "source": [
    "# Removing outlier rows (values higher than the top .1%)\n",
    "# for Total Bsmt SF, Gr Liv Area, Garage Area, and tot_liv_area\n",
    "ames_train = ames_train[(ames_train['Total Bsmt SF'] < bsmt_area_high)]\n",
    "ames_train = ames_train[(ames_train['Total Bsmt SF'] < bsmt_area_high)]\n",
    "ames_train = ames_train[(ames_train['Gr Liv Area'] < gr_liv_area_high)]\n",
    "ames_train = ames_train[(ames_train['Garage Area'] < garage_area_high)]\n",
    "ames_train = ames_train[(ames_train['tot_liv_area'] < tot_liv_area)]"
   ]
  },
  {
   "cell_type": "markdown",
   "metadata": {},
   "source": [
    "Above quantile code to identify outliers was learned from this stack overflow [page](https://stackoverflow.com/questions/23199796/detect-and-exclude-outliers-in-pandas-data-frame)"
   ]
  },
  {
   "cell_type": "code",
   "execution_count": 4191,
   "metadata": {},
   "outputs": [
    {
     "data": {
      "image/png": "[encoded data removed]",
      "text/plain": [
       "<Figure size 1080x1080 with 2 Axes>"
      ]
     },
     "metadata": {
      "needs_background": "light"
     },
     "output_type": "display_data"
    }
   ],
   "source": [
    "# Creating a heatmap to see which variables correlate most with SalePrice column. Ignoring MS Subclass row because\n",
    "# it should be categorical\n",
    "plt.figure(figsize=(15, 15))\n",
    "sns.heatmap(ames_train.corr()[['SalePrice']].sort_values(by='SalePrice', ascending=False), annot=True, vmin=-1, vmax=1);"
   ]
  },
  {
   "cell_type": "code",
   "execution_count": 4192,
   "metadata": {},
   "outputs": [
    {
     "data": {
      "image/png": "[encoded data removed]",
      "text/plain": [
       "<Figure size 432x288 with 1 Axes>"
      ]
     },
     "metadata": {
      "needs_background": "light"
     },
     "output_type": "display_data"
    }
   ],
   "source": [
    "# Scatterplot between overall cond and saleprice is not very linear. Note differentiation between condition and\n",
    "# quality\n",
    "sns.scatterplot(x = ames_train['Overall Cond'], y = ames_train['SalePrice']);"
   ]
  },
  {
   "cell_type": "code",
   "execution_count": 4193,
   "metadata": {},
   "outputs": [
    {
     "data": {
      "text/plain": [
       "count    2044.000000\n",
       "mean        5.563601\n",
       "std         1.105039\n",
       "min         1.000000\n",
       "25%         5.000000\n",
       "50%         5.000000\n",
       "75%         6.000000\n",
       "max         9.000000\n",
       "Name: Overall Cond, dtype: float64"
      ]
     },
     "execution_count": 4193,
     "metadata": {},
     "output_type": "execute_result"
    }
   ],
   "source": [
    "# The majority of values are concentrated around 5-6\n",
    "ames_train['Overall Cond'].describe()"
   ]
  },
  {
   "cell_type": "code",
   "execution_count": 4194,
   "metadata": {},
   "outputs": [
    {
     "data": {
      "image/png": "[encoded data removed]",
      "text/plain": [
       "<Figure size 432x288 with 1 Axes>"
      ]
     },
     "metadata": {
      "needs_background": "light"
     },
     "output_type": "display_data"
    }
   ],
   "source": [
    "# There's little correlation between Bedroom AbvGr and SalePrice\n",
    "sns.scatterplot(x = ames_train['Bedroom AbvGr'], y = ames_train['SalePrice']);"
   ]
  },
  {
   "cell_type": "code",
   "execution_count": 4195,
   "metadata": {},
   "outputs": [],
   "source": [
    "# Dropping the above two columns\n",
    "ames_train.drop(columns=['Bedroom AbvGr', 'Overall Cond'], inplace=True)"
   ]
  },
  {
   "cell_type": "code",
   "execution_count": 4196,
   "metadata": {},
   "outputs": [],
   "source": [
    "# ames_train.to_csv('./datasets/train_cleaned_x_vars.csv')\n",
    "ames_train.to_csv('./datasets/train_cleaned_x_vars.csv')"
   ]
  },
  {
   "cell_type": "markdown",
   "metadata": {},
   "source": [
    "### Applying Polynomial Features and Dummy Columns to Dataframe Subsets"
   ]
  },
  {
   "cell_type": "code",
   "execution_count": 4197,
   "metadata": {},
   "outputs": [],
   "source": [
    "# Creating a list of x variable columns with numerical values\n",
    "num_vars_train = [col for col in ames_train._get_numeric_data().columns]\n",
    "num_vars_train.remove('MS SubClass') # MS Subclass is type int, but still categorical\n",
    "num_vars_train.remove('SalePrice') "
   ]
  },
  {
   "cell_type": "code",
   "execution_count": 1,
   "metadata": {},
   "outputs": [],
   "source": [
    "from sklearn.preprocessing import PolynomialFeatures\n",
    "from sklearn.feature_selection import SelectKBest, f_regression\n",
    "from sklearn.model_selection import train_test_split, cross_val_score\n",
    "from sklearn.linear_model import LinearRegression\n",
    "from sklearn.preprocessing import StandardScaler"
   ]
  },
  {
   "cell_type": "code",
   "execution_count": 4199,
   "metadata": {},
   "outputs": [
    {
     "data": {
      "text/plain": [
       "['Overall Qual',\n",
       " 'Exter Qual',\n",
       " 'Bsmt Qual',\n",
       " 'Total Bsmt SF',\n",
       " 'Gr Liv Area',\n",
       " 'Bsmt Full Bath',\n",
       " 'Bsmt Half Bath',\n",
       " 'Kitchen Qual',\n",
       " 'TotRms AbvGrd',\n",
       " 'Garage Area',\n",
       " 'tot_baths',\n",
       " 'tot_bed_bath',\n",
       " 'tot_liv_area']"
      ]
     },
     "execution_count": 4199,
     "metadata": {},
     "output_type": "execute_result"
    }
   ],
   "source": [
    "num_vars_train"
   ]
  },
  {
   "cell_type": "code",
   "execution_count": 4200,
   "metadata": {},
   "outputs": [],
   "source": [
    "# Generating Polynomial Features on only the numerical variables\n",
    "\n",
    "X_num_train = ames_train[num_vars_train]\n",
    "\n",
    "poly_train = PolynomialFeatures(degree=2, interaction_only=False, include_bias=False)\n",
    "\n",
    "# Fit and transform numerical X variables.\n",
    "X_overfit_train = poly.fit_transform(X_num_train)"
   ]
  },
  {
   "cell_type": "code",
   "execution_count": 4201,
   "metadata": {},
   "outputs": [],
   "source": [
    "# Turning X_overfit into dataframe type\n",
    "X_overfit_train = pd.DataFrame(X_overfit_train)"
   ]
  },
  {
   "cell_type": "code",
   "execution_count": 4202,
   "metadata": {},
   "outputs": [
    {
     "data": {
      "text/plain": [
       "(2044, 104)"
      ]
     },
     "execution_count": 4202,
     "metadata": {},
     "output_type": "execute_result"
    }
   ],
   "source": [
    "X_overfit_train.shape"
   ]
  },
  {
   "cell_type": "code",
   "execution_count": 4203,
   "metadata": {},
   "outputs": [
    {
     "data": {
      "text/plain": [
       "Index(['MS SubClass', 'MS Zoning', 'Land Contour', 'Utilities', 'Lot Config',\n",
       "       'Land Slope', 'Neighborhood', 'Condition', 'Bldg Type', 'Overall Qual',\n",
       "       'Exter Qual', 'Bsmt Qual', 'BsmtFin Type 1', 'Total Bsmt SF',\n",
       "       'Heating QC', 'Gr Liv Area', 'Bsmt Full Bath', 'Bsmt Half Bath',\n",
       "       'Kitchen Qual', 'TotRms AbvGrd', 'Garage Area', 'Paved Drive',\n",
       "       'Sale Type', 'SalePrice', 'tot_baths', 'tot_bed_bath', 'tot_liv_area'],\n",
       "      dtype='object')"
      ]
     },
     "execution_count": 4203,
     "metadata": {},
     "output_type": "execute_result"
    }
   ],
   "source": [
    "ames_train.columns"
   ]
  },
  {
   "cell_type": "code",
   "execution_count": 4204,
   "metadata": {},
   "outputs": [],
   "source": [
    "# Making a dataframe for all categorical columns\n",
    "\n",
    "ames_categ_train = ames_train.drop(columns=num_vars_train)\n",
    "ames_categ_train = ames_categ_train.drop(columns='SalePrice')"
   ]
  },
  {
   "cell_type": "code",
   "execution_count": 4205,
   "metadata": {},
   "outputs": [
    {
     "data": {
      "text/html": [
       "<div>\n",
       "<style scoped>\n",
       "    .dataframe tbody tr th:only-of-type {\n",
       "        vertical-align: middle;\n",
       "    }\n",
       "\n",
       "    .dataframe tbody tr th {\n",
       "        vertical-align: top;\n",
       "    }\n",
       "\n",
       "    .dataframe thead th {\n",
       "        text-align: right;\n",
       "    }\n",
       "</style>\n",
       "<table border=\"1\" class=\"dataframe\">\n",
       "  <thead>\n",
       "    <tr style=\"text-align: right;\">\n",
       "      <th></th>\n",
       "      <th>MS SubClass</th>\n",
       "      <th>MS Zoning</th>\n",
       "      <th>Land Contour</th>\n",
       "      <th>Utilities</th>\n",
       "      <th>Lot Config</th>\n",
       "      <th>Land Slope</th>\n",
       "      <th>Neighborhood</th>\n",
       "      <th>Condition</th>\n",
       "      <th>Bldg Type</th>\n",
       "      <th>BsmtFin Type 1</th>\n",
       "      <th>Heating QC</th>\n",
       "      <th>Paved Drive</th>\n",
       "      <th>Sale Type</th>\n",
       "    </tr>\n",
       "  </thead>\n",
       "  <tbody>\n",
       "    <tr>\n",
       "      <th>0</th>\n",
       "      <td>60</td>\n",
       "      <td>RL</td>\n",
       "      <td>Lvl</td>\n",
       "      <td>AllPub</td>\n",
       "      <td>CulDSac</td>\n",
       "      <td>Gtl</td>\n",
       "      <td>Sawyer</td>\n",
       "      <td>RRA</td>\n",
       "      <td>1Fam</td>\n",
       "      <td>GLQ</td>\n",
       "      <td>Ex</td>\n",
       "      <td>Y</td>\n",
       "      <td>WD</td>\n",
       "    </tr>\n",
       "    <tr>\n",
       "      <th>1</th>\n",
       "      <td>60</td>\n",
       "      <td>RL</td>\n",
       "      <td>Lvl</td>\n",
       "      <td>AllPub</td>\n",
       "      <td>CulDSac</td>\n",
       "      <td>Gtl</td>\n",
       "      <td>SawyerW</td>\n",
       "      <td>Norm</td>\n",
       "      <td>1Fam</td>\n",
       "      <td>GLQ</td>\n",
       "      <td>Ex</td>\n",
       "      <td>Y</td>\n",
       "      <td>WD</td>\n",
       "    </tr>\n",
       "    <tr>\n",
       "      <th>2</th>\n",
       "      <td>20</td>\n",
       "      <td>RL</td>\n",
       "      <td>Lvl</td>\n",
       "      <td>AllPub</td>\n",
       "      <td>Inside</td>\n",
       "      <td>Gtl</td>\n",
       "      <td>NAmes</td>\n",
       "      <td>Norm</td>\n",
       "      <td>1Fam</td>\n",
       "      <td>GLQ</td>\n",
       "      <td>TA</td>\n",
       "      <td>Y</td>\n",
       "      <td>WD</td>\n",
       "    </tr>\n",
       "    <tr>\n",
       "      <th>3</th>\n",
       "      <td>60</td>\n",
       "      <td>RL</td>\n",
       "      <td>Lvl</td>\n",
       "      <td>AllPub</td>\n",
       "      <td>Inside</td>\n",
       "      <td>Gtl</td>\n",
       "      <td>Timber</td>\n",
       "      <td>Norm</td>\n",
       "      <td>1Fam</td>\n",
       "      <td>Unf</td>\n",
       "      <td>Gd</td>\n",
       "      <td>Y</td>\n",
       "      <td>WD</td>\n",
       "    </tr>\n",
       "    <tr>\n",
       "      <th>4</th>\n",
       "      <td>50</td>\n",
       "      <td>RL</td>\n",
       "      <td>Lvl</td>\n",
       "      <td>AllPub</td>\n",
       "      <td>Inside</td>\n",
       "      <td>Gtl</td>\n",
       "      <td>SawyerW</td>\n",
       "      <td>Norm</td>\n",
       "      <td>1Fam</td>\n",
       "      <td>Unf</td>\n",
       "      <td>TA</td>\n",
       "      <td>N</td>\n",
       "      <td>WD</td>\n",
       "    </tr>\n",
       "  </tbody>\n",
       "</table>\n",
       "</div>"
      ],
      "text/plain": [
       "   MS SubClass MS Zoning Land Contour Utilities Lot Config Land Slope  \\\n",
       "0           60        RL          Lvl    AllPub    CulDSac        Gtl   \n",
       "1           60        RL          Lvl    AllPub    CulDSac        Gtl   \n",
       "2           20        RL          Lvl    AllPub     Inside        Gtl   \n",
       "3           60        RL          Lvl    AllPub     Inside        Gtl   \n",
       "4           50        RL          Lvl    AllPub     Inside        Gtl   \n",
       "\n",
       "  Neighborhood Condition Bldg Type BsmtFin Type 1 Heating QC Paved Drive  \\\n",
       "0       Sawyer       RRA      1Fam            GLQ         Ex           Y   \n",
       "1      SawyerW      Norm      1Fam            GLQ         Ex           Y   \n",
       "2        NAmes      Norm      1Fam            GLQ         TA           Y   \n",
       "3       Timber      Norm      1Fam            Unf         Gd           Y   \n",
       "4      SawyerW      Norm      1Fam            Unf         TA           N   \n",
       "\n",
       "  Sale Type  \n",
       "0       WD   \n",
       "1       WD   \n",
       "2       WD   \n",
       "3       WD   \n",
       "4       WD   "
      ]
     },
     "execution_count": 4205,
     "metadata": {},
     "output_type": "execute_result"
    }
   ],
   "source": [
    "ames_categ_train.head()"
   ]
  },
  {
   "cell_type": "code",
   "execution_count": 4206,
   "metadata": {},
   "outputs": [],
   "source": [
    "# Listing out all the ames_categ variables\n",
    "dummy_list = [x for x in ames_categ_train.columns]"
   ]
  },
  {
   "cell_type": "code",
   "execution_count": 4207,
   "metadata": {},
   "outputs": [],
   "source": [
    "# Dummifying all categorical variables, including MS Subclass\n",
    "ames_categ_train = pd.get_dummies(data=ames_categ_train, columns=dummy_list, drop_first=True)"
   ]
  },
  {
   "cell_type": "code",
   "execution_count": 4208,
   "metadata": {},
   "outputs": [
    {
     "data": {
      "text/plain": [
       "(2044, 87)"
      ]
     },
     "execution_count": 4208,
     "metadata": {},
     "output_type": "execute_result"
    }
   ],
   "source": [
    "ames_categ_train.shape"
   ]
  },
  {
   "cell_type": "code",
   "execution_count": 4209,
   "metadata": {},
   "outputs": [
    {
     "data": {
      "text/plain": [
       "(2044, 104)"
      ]
     },
     "execution_count": 4209,
     "metadata": {},
     "output_type": "execute_result"
    }
   ],
   "source": [
    "X_overfit_train.shape"
   ]
  },
  {
   "cell_type": "code",
   "execution_count": 4210,
   "metadata": {},
   "outputs": [],
   "source": [
    "# Combining my preprocessed numerical and categorical sub-datasets. Adding reset_index to prevent \n",
    "# adding of more rows\n",
    "X_complete_train = pd.concat([X_overfit_train, ames_categ_train.reset_index()], axis=1)"
   ]
  },
  {
   "cell_type": "markdown",
   "metadata": {},
   "source": [
    "reset_index() code taken from this [page](https://stackoverflow.com/questions/50368145/pandas-concat-increases-number-of-rows)"
   ]
  },
  {
   "cell_type": "code",
   "execution_count": 4211,
   "metadata": {},
   "outputs": [
    {
     "data": {
      "text/plain": [
       "(2044, 192)"
      ]
     },
     "execution_count": 4211,
     "metadata": {},
     "output_type": "execute_result"
    }
   ],
   "source": [
    "X_complete_train.shape"
   ]
  },
  {
   "cell_type": "code",
   "execution_count": 4212,
   "metadata": {},
   "outputs": [],
   "source": [
    "X_complete_train.to_csv('./datasets/train_transformed_x_vars.csv')"
   ]
  },
  {
   "cell_type": "code",
   "execution_count": null,
   "metadata": {},
   "outputs": [],
   "source": []
  }
 ],
 "metadata": {
  "kernelspec": {
   "display_name": "Python 3",
   "language": "python",
   "name": "python3"
  },
  "language_info": {
   "codemirror_mode": {
    "name": "ipython",
    "version": 3
   },
   "file_extension": ".py",
   "mimetype": "text/x-python",
   "name": "python",
   "nbconvert_exporter": "python",
   "pygments_lexer": "ipython3",
   "version": "3.8.3"
  }
 },
 "nbformat": 4,
 "nbformat_minor": 4
}
